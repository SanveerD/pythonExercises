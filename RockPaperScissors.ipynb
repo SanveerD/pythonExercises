{
 "cells": [
  {
   "cell_type": "code",
   "execution_count": 7,
   "metadata": {},
   "outputs": [
    {
     "name": "stdout",
     "output_type": "stream",
     "text": [
      "paper\n"
     ]
    }
   ],
   "source": [
    "import random\n",
    "move_set = ['rock','paper','scissors']\n",
    "comp_move = move_set[random.randint(0,2)]\n",
    "print(comp_move)"
   ]
  },
  {
   "cell_type": "code",
   "execution_count": 8,
   "metadata": {},
   "outputs": [
    {
     "name": "stdout",
     "output_type": "stream",
     "text": [
      "what's your move?paper\n",
      "tie\n",
      "what's your move?paper\n",
      "tie\n",
      "what's your move?paper\n",
      "tie\n",
      "what's your move?rock\n",
      "computer wins\n"
     ]
    }
   ],
   "source": [
    "gamesetting = True\n",
    "\n",
    "while gamesetting == True:\n",
    "    user_move = input(\"what's your move?\")\n",
    "    if user_move == comp_move:\n",
    "        print(\"tie\")\n",
    "        continue\n",
    "    if user_move == 'rock':\n",
    "        if comp_move == 'paper':\n",
    "            print('computer wins')\n",
    "        if comp_move == 'scissors':\n",
    "            print('user wins')\n",
    "        break\n",
    "    if user_move == 'scissors':\n",
    "        if comp_move == 'rock':\n",
    "            print('computer wins')\n",
    "        if comp_move == 'rock':\n",
    "            print('user wins')\n",
    "        break\n",
    "    if user_move == 'paper':\n",
    "        if comp_move == 'scissors':\n",
    "            print('computer wins')\n",
    "        if comp_move == 'rock':\n",
    "            print('user wins')\n",
    "        break"
   ]
  },
  {
   "cell_type": "code",
   "execution_count": null,
   "metadata": {},
   "outputs": [],
   "source": []
  }
 ],
 "metadata": {
  "kernelspec": {
   "display_name": "Python 3",
   "language": "python",
   "name": "python3"
  },
  "language_info": {
   "codemirror_mode": {
    "name": "ipython",
    "version": 3
   },
   "file_extension": ".py",
   "mimetype": "text/x-python",
   "name": "python",
   "nbconvert_exporter": "python",
   "pygments_lexer": "ipython3",
   "version": "3.7.6"
  }
 },
 "nbformat": 4,
 "nbformat_minor": 2
}
