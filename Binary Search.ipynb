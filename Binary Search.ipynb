{
 "cells": [
  {
   "cell_type": "code",
   "execution_count": 13,
   "metadata": {},
   "outputs": [],
   "source": [
    "import random"
   ]
  },
  {
   "cell_type": "code",
   "execution_count": 14,
   "metadata": {},
   "outputs": [
    {
     "name": "stdout",
     "output_type": "stream",
     "text": [
      "92 32 82 96 10 54 80 96 84 48 18 32 34 76 56 14 96 0 4 88 34 98 88 24 30 18 4 32 36 18 66 14 88 22 88 40 72 90 98 50 70 12 82 78 32 26 84 24 60 70 70 12 24 22 0 36 18 6 6 18 58 80 30 12 14 56 12 48 18 88 96 28 92 72 2 8 74 66 30 26 44 44 46 82 6 20 24 72 88 66 0 84 30 18 90 46 32 16 80 40\n"
     ]
    }
   ],
   "source": [
    "random_list = []\n",
    "\n",
    "for i in range(0,100):\n",
    "    random_list.append(random.randrange(0,100,2))\n",
    "print(*random_list)\n"
   ]
  },
  {
   "cell_type": "code",
   "execution_count": 15,
   "metadata": {},
   "outputs": [
    {
     "name": "stdout",
     "output_type": "stream",
     "text": [
      "gimme a number10\n",
      "heres the number 7\n"
     ]
    }
   ],
   "source": [
    "\n",
    "numb = int(input('gimme a number'))\n",
    "\n",
    "halves = 0\n",
    "while True:\n",
    "    mid_point = round(len(random_list)/2)\n",
    "    if random_list[mid_point] == numb:\n",
    "        halves += 1\n",
    "        print('heres the number {}'.format(halves))\n",
    "        break\n",
    "    elif numb in random_list[0:mid_point]:\n",
    "        random_list = random_list[0:mid_point]\n",
    "        halves += 1\n",
    "        continue\n",
    "    elif numb in random_list[mid_point:]:\n",
    "        random_list = random_list[mid_point:]\n",
    "        halves += 1\n",
    "        continue\n",
    "    else:\n",
    "        print(\"not in list \"+ halves)\n",
    "        break\n"
   ]
  }
 ],
 "metadata": {
  "kernelspec": {
   "display_name": "Python 3",
   "language": "python",
   "name": "python3"
  },
  "language_info": {
   "codemirror_mode": {
    "name": "ipython",
    "version": 3
   },
   "file_extension": ".py",
   "mimetype": "text/x-python",
   "name": "python",
   "nbconvert_exporter": "python",
   "pygments_lexer": "ipython3",
   "version": "3.7.6"
  }
 },
 "nbformat": 4,
 "nbformat_minor": 2
}
