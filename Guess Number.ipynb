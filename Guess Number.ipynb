{
 "cells": [
  {
   "cell_type": "code",
   "execution_count": 2,
   "metadata": {},
   "outputs": [],
   "source": [
    "import random"
   ]
  },
  {
   "cell_type": "code",
   "execution_count": 3,
   "metadata": {},
   "outputs": [
    {
     "name": "stdout",
     "output_type": "stream",
     "text": [
      "1\n"
     ]
    }
   ],
   "source": [
    "target = random.randrange(0,20,1)\n",
    "print(target)"
   ]
  },
  {
   "cell_type": "code",
   "execution_count": 5,
   "metadata": {},
   "outputs": [
    {
     "name": "stdout",
     "output_type": "stream",
     "text": [
      "Guess the number between 0 and 201\n",
      "Congrats, you got it!\n"
     ]
    }
   ],
   "source": [
    "\n",
    "while True:\n",
    "    try:\n",
    "        guess = int(input(\"Guess the number between 0 and 20\"))\n",
    "    except:\n",
    "        print(\"Not a valid input.\")\n",
    "        continue\n",
    "    if not (0 <= guess <= 20):\n",
    "        print(\"That number was not between 0 and 20. Try again.\")\n",
    "        continue\n",
    "    elif guess > target:\n",
    "        print(\"Your guess was too high. Try again\")\n",
    "        continue\n",
    "    elif guess < target:\n",
    "        print(\"Your guess was too low. Try again\")\n",
    "        continue\n",
    "    elif guess == target:\n",
    "        print(\"Congrats, you got it!\")\n",
    "        break\n",
    "    else:\n",
    "        print(\"Something went wrong\")\n",
    "        break"
   ]
  }
 ],
 "metadata": {
  "kernelspec": {
   "display_name": "Python 3",
   "language": "python",
   "name": "python3"
  }
 },
 "nbformat": 4,
 "nbformat_minor": 2
}
