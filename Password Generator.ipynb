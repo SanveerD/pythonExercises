{
 "cells": [
  {
   "cell_type": "code",
   "execution_count": 6,
   "metadata": {},
   "outputs": [],
   "source": [
    "import random\n",
    "import string"
   ]
  },
  {
   "cell_type": "code",
   "execution_count": 33,
   "metadata": {},
   "outputs": [
    {
     "name": "stdout",
     "output_type": "stream",
     "text": [
      "how long do you want your password to be?9\n",
      "KHA*ou,;h\n"
     ]
    }
   ],
   "source": [
    "while True:\n",
    "    length = int(input(\"how long do you want your password to be?\"))\n",
    "    if length < 6:\n",
    "        print(\"too short\")\n",
    "        continue\n",
    "    else:\n",
    "        break\n",
    "\n",
    "password = ''\n",
    "\n",
    "for i in range(0,length):\n",
    "    password+=(random.choices(string.ascii_letters + string.punctuation + string.digits)[0])\n",
    "print(password)"
   ]
  }
 ],
 "metadata": {
  "kernelspec": {
   "display_name": "Python 3",
   "language": "python",
   "name": "python3"
  },
  "language_info": {
   "codemirror_mode": {
    "name": "ipython",
    "version": 3
   },
   "file_extension": ".py",
   "mimetype": "text/x-python",
   "name": "python",
   "nbconvert_exporter": "python",
   "pygments_lexer": "ipython3",
   "version": "3.7.6"
  }
 },
 "nbformat": 4,
 "nbformat_minor": 2
}
